{
  "nbformat": 4,
  "nbformat_minor": 0,
  "metadata": {
    "colab": {
      "provenance": []
    },
    "kernelspec": {
      "name": "python3",
      "display_name": "Python 3"
    },
    "language_info": {
      "name": "python"
    }
  },
  "cells": [
    {
      "cell_type": "markdown",
      "source": [
        "**Water Jug**\n"
      ],
      "metadata": {
        "id": "100y1xfCKFCF"
      }
    },
    {
      "cell_type": "markdown",
      "source": [
        "You are given a m liter jug and a n liter jug where 0 < m < n. Both the jugs are initially empty. The jugs don’t have markings to allow measuring smaller quantities. You have to use the jugs to measure d liters of water where d < n. Determine the minimum no of operations to be performed to obtain d liters of water in one of jug."
      ],
      "metadata": {
        "id": "X_TB6fY7tXhA"
      }
    },
    {
      "cell_type": "markdown",
      "source": [
        "*Breadth-First Search (BFS)*"
      ],
      "metadata": {
        "id": "rk_re9RgKvxB"
      }
    },
    {
      "cell_type": "code",
      "execution_count": null,
      "metadata": {
        "colab": {
          "base_uri": "https://localhost:8080/"
        },
        "id": "KX61lHofJxtt",
        "outputId": "92f25ed9-5d95-40f9-993c-1821d137da68"
      },
      "outputs": [
        {
          "output_type": "stream",
          "name": "stdout",
          "text": [
            "Path from initial state to solution state ::\n",
            "( 0 , 0 )\n",
            "( 0 , 3 )\n",
            "( 4 , 0 )\n",
            "( 4 , 3 )\n",
            "( 3 , 0 )\n",
            "( 1 , 3 )\n",
            "( 3 , 3 )\n",
            "( 4 , 2 )\n",
            "( 0 , 2 )\n"
          ]
        }
      ],
      "source": [
        "from collections import deque\n",
        "\n",
        "\n",
        "def BFS(a, b, target):\n",
        "\n",
        "\tm = {}\n",
        "\tisSolvable = False\n",
        "\tpath = []\n",
        "\n",
        "\n",
        "\tq = deque()\n",
        "\n",
        "\tq.append((0, 0))\n",
        "\n",
        "\twhile (len(q) > 0):\n",
        "\t\tu = q.popleft()# If this state is already visited\n",
        "\t\tif ((u[0], u[1]) in m):\n",
        "\t\t\tcontinue\n",
        "\t\tif ((u[0] > a or u[1] > b or\n",
        "\t\t\tu[0] < 0 or u[1] < 0)):\n",
        "\t\t\tcontinue\n",
        "\n",
        "\t\t# Filling the vector for constructing\n",
        "\t\t# the solution path\n",
        "\t\tpath.append([u[0], u[1]])\n",
        "\n",
        "\t\t# Marking current state as visited\n",
        "\t\tm[(u[0], u[1])] = 1\n",
        "\n",
        "\t\t# If we reach solution state, put ans=1\n",
        "\t\tif (u[0] == target or u[1] == target):\n",
        "\t\t\tisSolvable = True\n",
        "\n",
        "\t\t\tif (u[0] == target):\n",
        "\t\t\t\tif (u[1] != 0):\n",
        "\n",
        "\t\t\t\t\t# Fill final state\n",
        "\t\t\t\t\tpath.append([u[0], 0])\n",
        "\t\t\telse:\n",
        "\t\t\t\tif (u[0] != 0):\n",
        "\n",
        "\t\t\t\t\t# Fill final state\n",
        "\t\t\t\t\tpath.append([0, u[1]])\n",
        "\n",
        "\t\t\t# Print the solution path\n",
        "\t\t\tsz = len(path)\n",
        "\t\t\tfor i in range(sz):\n",
        "\t\t\t\tprint(\"(\", path[i][0], \",\",\n",
        "\t\t\t\t\tpath[i][1], \")\")\n",
        "\t\t\tbreak\n",
        "\n",
        "\t\t# If we have not reached final state\n",
        "\t\t# then, start developing intermediate\n",
        "\t\t# states to reach solution state\n",
        "\t\tq.append([u[0], b]) # Fill Jug2\n",
        "\t\tq.append([a, u[1]]) # Fill Jug1\n",
        "\n",
        "\t\tfor ap in range(max(a, b) + 1):\n",
        "\n",
        "\t\t\t# Pour amount ap from Jug2 to Jug1\n",
        "\t\t\tc = u[0] + ap\n",
        "\t\t\td = u[1] - ap\n",
        "\n",
        "\t\t\t# Check if this state is possible or not\n",
        "\t\t\tif (c == a or (d == 0 and d >= 0)):\n",
        "\t\t\t\tq.append([c, d])\n",
        "\n",
        "\t\t\t# Pour amount ap from Jug 1 to Jug2\n",
        "\t\t\tc = u[0] - ap\n",
        "\t\t\td = u[1] + ap\n",
        "\n",
        "\t\t\t# Check if this state is possible or not\n",
        "\t\t\tif ((c == 0 and c >= 0) or d == b):\n",
        "\t\t\t\tq.append([c, d])\n",
        "\n",
        "\t\t# Empty Jug2\n",
        "\t\tq.append([a, 0])\n",
        "\n",
        "\t\t# Empty Jug1\n",
        "\t\tq.append([0, b])\n",
        "\n",
        "\t# No, solution exists if ans=0\n",
        "\tif (not isSolvable):\n",
        "\t\tprint(\"No solution\")\n",
        "\n",
        "\n",
        "# Driver code\n",
        "if __name__ == '__main__':\n",
        "\n",
        "\tJug1, Jug2, target = 4, 3, 2\n",
        "\tprint(\"Path from initial state \"\n",
        "\t\t\"to solution state ::\")\n",
        "\n",
        "\tBFS(Jug1, Jug2, target)\n",
        "\n",
        "# This code is contributed by mohit kumar 29\n"
      ]
    },
    {
      "cell_type": "markdown",
      "source": [
        "*Depth first search(DFS)*"
      ],
      "metadata": {
        "id": "LE-w1Jn1LuPM"
      }
    },
    {
      "cell_type": "code",
      "source": [
        "def water_jug_dfs(a, b, C, visited, steps):\n",
        "    if a == C or b == C:\n",
        "        steps.append((a, b, \"Goal\"))\n",
        "        return True\n",
        "\n",
        "    visited.add((a, b))\n",
        "\n",
        "    next_states = [\n",
        "        (A, b, \"Fill A\"),  # Fill jug A\n",
        "        (a, B, \"Fill B\"),  # Fill jug B\n",
        "        (0, b, \"Empty A\"),  # Empty jug A\n",
        "        (a, 0, \"Empty B\"),  # Empty jug B\n",
        "        (min(a + b, A), max(0, a + b - A), \"Pour B to A\"),  # Pour from B to A\n",
        "        (max(0, a + b - B), min(a + b, B), \"Pour A to B\")   # Pour from A to B\n",
        "    ]\n",
        "\n",
        "    for state in next_states:\n",
        "        new_a, new_b, action = state\n",
        "        if (new_a, new_b) not in visited:\n",
        "            steps.append((new_a, new_b, action))\n",
        "            if water_jug_dfs(new_a, new_b, C, visited, steps):\n",
        "                return True\n",
        "            steps.pop()\n",
        "\n",
        "    return False\n",
        "\n",
        "A = 4  # Capacity of jug A\n",
        "B = 3  # Capacity of jug B\n",
        "C = 2  # Desired amount of water\n",
        "\n",
        "initial_state = (0, 0)\n",
        "visited_states = set()\n",
        "solution_steps = []\n",
        "\n",
        "water_jug_dfs(initial_state[0], initial_state[1], C, visited_states, solution_steps)\n",
        "\n",
        "if solution_steps:\n",
        "    print(\"Solution steps:\")\n",
        "    for step in solution_steps:\n",
        "        print(f\"Jug A: {step[0]} liters, Jug B: {step[1]} liters - {step[2]}\")\n",
        "else:\n",
        "    print(\"No solution found.\")\n"
      ],
      "metadata": {
        "colab": {
          "base_uri": "https://localhost:8080/"
        },
        "id": "IIxFAlXFL2LH",
        "outputId": "d0684960-8a06-4375-9c6f-13851621aa9d"
      },
      "execution_count": null,
      "outputs": [
        {
          "output_type": "stream",
          "name": "stdout",
          "text": [
            "Solution steps:\n",
            "Jug A: 4 liters, Jug B: 0 liters - Fill A\n",
            "Jug A: 4 liters, Jug B: 3 liters - Fill B\n",
            "Jug A: 0 liters, Jug B: 3 liters - Empty A\n",
            "Jug A: 3 liters, Jug B: 0 liters - Pour B to A\n",
            "Jug A: 3 liters, Jug B: 3 liters - Fill B\n",
            "Jug A: 4 liters, Jug B: 2 liters - Pour B to A\n",
            "Jug A: 4 liters, Jug B: 2 liters - Goal\n"
          ]
        }
      ]
    },
    {
      "cell_type": "markdown",
      "source": [
        "A* Search"
      ],
      "metadata": {
        "id": "OhyzPbjLNXYd"
      }
    },
    {
      "cell_type": "code",
      "source": [
        "import heapq\n",
        "\n",
        "def heuristic(state, C):\n",
        "    return abs(state[0] - C) + abs(state[1] - C)\n",
        "\n",
        "def water_jug_astar(A, B, C):\n",
        "    initial_state = (0, 0)\n",
        "    priority_queue = [(heuristic(initial_state, C), 0, initial_state)]\n",
        "    visited = set()\n",
        "    steps = {}\n",
        "\n",
        "    while priority_queue:\n",
        "        _, cost, current_state = heapq.heappop(priority_queue)\n",
        "\n",
        "        if current_state[0] == C or current_state[1] == C:\n",
        "            solution = []\n",
        "            while current_state in steps:\n",
        "                prev_state, action = steps[current_state]\n",
        "                solution.append((current_state[0], current_state[1], action))\n",
        "                current_state = prev_state\n",
        "            solution.reverse()\n",
        "            return solution\n",
        "\n",
        "        visited.add(current_state)\n",
        "\n",
        "        next_states = [\n",
        "            (A, current_state[1], \"Fill A\"),  # Fill jug A\n",
        "            (current_state[0], B, \"Fill B\"),  # Fill jug B\n",
        "            (0, current_state[1], \"Empty A\"),  # Empty jug A\n",
        "            (current_state[0], 0, \"Empty B\"),  # Empty jug B\n",
        "            (min(current_state[0] + current_state[1], A), max(0, current_state[0] + current_state[1] - A), \"Pour B to A\"),  # Pour from B to A\n",
        "            (max(0, current_state[0] + current_state[1] - B), min(current_state[0] + current_state[1], B), \"Pour A to B\")   # Pour from A to B\n",
        "        ]\n",
        "\n",
        "        for state in next_states:\n",
        "            if state not in visited:\n",
        "                heapq.heappush(priority_queue, (cost + 1 + heuristic(state, C), cost + 1, state))\n",
        "                steps[state] = (current_state, state[2])\n",
        "\n",
        "    return None  # No solution found\n",
        "\n",
        "A = 4  # Capacity of jug A\n",
        "B = 3  # Capacity of jug B\n",
        "C = 2  # Desired amount of water\n",
        "\n",
        "solution_steps = water_jug_astar(A, B, C)\n",
        "\n",
        "if solution_steps:\n",
        "    print(\"Solution steps:\")\n",
        "    for step in solution_steps:\n",
        "        print(f\"Jug A: {step[0]} liters, Jug B: {step[1]} liters - {step[2]}\")\n",
        "else:\n",
        "    print(\"No solution found.\")\n"
      ],
      "metadata": {
        "colab": {
          "base_uri": "https://localhost:8080/"
        },
        "id": "tC2qE4FqNZls",
        "outputId": "2c788a5a-f555-4e98-e634-05cd05127d6f"
      },
      "execution_count": null,
      "outputs": [
        {
          "output_type": "stream",
          "name": "stdout",
          "text": [
            "Solution steps:\n",
            "Jug A: 0 liters, Jug B: 0 liters - Empty A\n",
            "Jug A: 0 liters, Jug B: 0 liters - Empty B\n",
            "Jug A: 0 liters, Jug B: 0 liters - Pour A to B\n",
            "Jug A: 0 liters, Jug B: 0 liters - Pour B to A\n",
            "Jug A: 4 liters, Jug B: 0 liters - Fill A\n",
            "Jug A: 1 liters, Jug B: 3 liters - Pour A to B\n",
            "Jug A: 0 liters, Jug B: 3 liters - Empty A\n",
            "Jug A: 0 liters, Jug B: 3 liters - Pour A to B\n",
            "Jug A: 3 liters, Jug B: 0 liters - Pour B to A\n",
            "Jug A: 3 liters, Jug B: 3 liters - Fill B\n",
            "Jug A: 3 liters, Jug B: 3 liters - Pour A to B\n",
            "Jug A: 4 liters, Jug B: 2 liters - Pour B to A\n"
          ]
        }
      ]
    },
    {
      "cell_type": "markdown",
      "source": [
        "*Hill Climbing*"
      ],
      "metadata": {
        "id": "w8MBb0HzO6Ng"
      }
    },
    {
      "cell_type": "code",
      "source": [
        "def heuristic(state, C):\n",
        "    return abs(state[0] - C) + abs(state[1] - C)\n",
        "\n",
        "def generate_neighbors(state, A, B):\n",
        "    neighbors = []\n",
        "    a, b, _ = state\n",
        "\n",
        "    neighbors.append((A, b, \"Fill A\"))  # Fill jug A\n",
        "    neighbors.append((a, B, \"Fill B\"))  # Fill jug B\n",
        "    neighbors.append((0, b, \"Empty A\"))  # Empty jug A\n",
        "    neighbors.append((a, 0, \"Empty B\"))  # Empty jug B\n",
        "    neighbors.append((min(a + b, A), max(0, a + b - A), \"Pour B to A\"))  # Pour from B to A\n",
        "    neighbors.append((max(0, a + b - B), min(a + b, B), \"Pour A to B\"))  # Pour from A to B\n",
        "\n",
        "    return neighbors\n",
        "\n",
        "def water_jug_hill_climbing(A, B, C):\n",
        "    current_state = (0, 0, \"Start\")\n",
        "    steps = [current_state]\n",
        "\n",
        "    while current_state[0] != C and current_state[1] != C:\n",
        "        neighbors = generate_neighbors(current_state, A, B)\n",
        "        best_neighbor = None\n",
        "        best_heuristic = float('inf')\n",
        "\n",
        "        for neighbor in neighbors:\n",
        "            neighbor_heuristic = heuristic((neighbor[0], neighbor[1]), C)\n",
        "            if neighbor_heuristic < best_heuristic:\n",
        "                best_neighbor = neighbor\n",
        "                best_heuristic = neighbor_heuristic\n",
        "\n",
        "        if best_heuristic >= heuristic((current_state[0], current_state[1]), C):\n",
        "            return steps  # Stuck in a local minimum, return steps\n",
        "\n",
        "        current_state = best_neighbor\n",
        "        steps.append(current_state)\n",
        "\n",
        "    return steps\n",
        "\n",
        "A = 4  # Capacity of jug A\n",
        "B = 3  # Capacity of jug B\n",
        "C = 2  # Desired amount of water\n",
        "\n",
        "solution_steps = water_jug_hill_climbing(A, B, C)\n",
        "\n",
        "print(\"Solution steps:\")\n",
        "for step in solution_steps:\n",
        "    print(f\"Jug A: {step[0]} liters, Jug B: {step[1]} liters - {step[2]}\")\n"
      ],
      "metadata": {
        "colab": {
          "base_uri": "https://localhost:8080/"
        },
        "id": "NJy-ZVd3PBYL",
        "outputId": "a9097107-bf54-469d-a35e-c07620e28c6a"
      },
      "execution_count": null,
      "outputs": [
        {
          "output_type": "stream",
          "name": "stdout",
          "text": [
            "Solution steps:\n",
            "Jug A: 0 liters, Jug B: 0 liters - Start\n",
            "Jug A: 0 liters, Jug B: 3 liters - Fill B\n"
          ]
        }
      ]
    }
  ]
}